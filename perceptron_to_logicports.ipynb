{
 "cells": [
  {
   "cell_type": "markdown",
   "metadata": {},
   "source": [
    "# Percepton Applied to Logic Ports Resolution\n",
    "\n",
    "It's my Percepton implementation made in python to learn logic ports (AND and OR).\n",
    "\n",
    "It may looks very simple, but help us to undestand how neural network works."
   ]
  },
  {
   "cell_type": "markdown",
   "metadata": {},
   "source": [
    "#### Sample\n",
    "\n",
    "All possibilities using logic ports which has two entries:"
   ]
  },
  {
   "cell_type": "code",
   "execution_count": 14,
   "metadata": {},
   "outputs": [],
   "source": [
    "samples = [[-1, 0, 0],\n",
    "          [-1, 0, 1],\n",
    "          [-1, 1, 0],\n",
    "          [-1, 1, 1]]"
   ]
  },
  {
   "cell_type": "markdown",
   "metadata": {},
   "source": [
    "#### Outputs\n",
    "\n",
    "Desired outputs to AND and OR: "
   ]
  },
  {
   "cell_type": "code",
   "execution_count": 15,
   "metadata": {},
   "outputs": [],
   "source": [
    "andResults = [0, 0, 0, 1]\n",
    "orResults = [0, 1, 1, 1]"
   ]
  },
  {
   "cell_type": "markdown",
   "metadata": {},
   "source": [
    "#### Weighted Sum Function"
   ]
  },
  {
   "cell_type": "code",
   "execution_count": 16,
   "metadata": {},
   "outputs": [],
   "source": [
    "def sum_weights(weights, inputs):\n",
    "    u = 0\n",
    "    for i in range(len(inputs)):\n",
    "        u += weights[i] * inputs[i]\n",
    "    return u"
   ]
  },
  {
   "cell_type": "markdown",
   "metadata": {},
   "source": [
    "#### Activation Function\n",
    "\n",
    "It's a Binary Step activation function"
   ]
  },
  {
   "cell_type": "code",
   "execution_count": 17,
   "metadata": {},
   "outputs": [],
   "source": [
    "def activationFunction(u):\n",
    "    return 1 if u >= 0 else 0"
   ]
  },
  {
   "cell_type": "markdown",
   "metadata": {},
   "source": [
    "### Training\n",
    "\n",
    "This part of code is the training algorithm of my Perceptron, it's using Hebb's rule to determine new weight values.\n",
    "https://en.wikipedia.org/wiki/Hebbian_theory"
   ]
  },
  {
   "cell_type": "code",
   "execution_count": 18,
   "metadata": {},
   "outputs": [],
   "source": [
    "import random \n",
    "\n",
    "def train(T, samples, results, n=0.1, maxEpoc=10000):\n",
    "    e=0\n",
    "    weights = [random.random() for t in range(T)]\n",
    "    while(True):\n",
    "        err=False\n",
    "        for k in range(len(samples)):\n",
    "            u = sum_weights(weights, samples[k])\n",
    "            y = activationFunction(u)\n",
    "            if(y != results[k]):\n",
    "                for i in range(T):\n",
    "                    weights[i] = weights[i] + n * (results[k]-y) * samples[k][i]\n",
    "                err=True\n",
    "            e+=1\n",
    "        if(err==False or e==maxEpoc):\n",
    "            break;\n",
    "    return weights"
   ]
  },
  {
   "cell_type": "markdown",
   "metadata": {},
   "source": [
    "### Predict\n",
    "Defining predict function which receives new inputs to predict using previously trained weights."
   ]
  },
  {
   "cell_type": "code",
   "execution_count": 19,
   "metadata": {},
   "outputs": [],
   "source": [
    "def predict(inputs, weights):\n",
    "    u = sum_weights(weights, inputs)\n",
    "    y = activationFunction(u)\n",
    "    return y"
   ]
  },
  {
   "cell_type": "markdown",
   "metadata": {},
   "source": [
    "### Tests\n",
    "First I train my perceptron and store the trained weights"
   ]
  },
  {
   "cell_type": "code",
   "execution_count": 20,
   "metadata": {},
   "outputs": [
    {
     "name": "stdout",
     "output_type": "stream",
     "text": [
      "[0.06505897369151331, 0.2469334859774816, 0.4195688068407589]\n"
     ]
    }
   ],
   "source": [
    "weights = train(3, samples, orResults, 0.2)\n",
    "print(weights)"
   ]
  },
  {
   "cell_type": "markdown",
   "metadata": {},
   "source": [
    "He"
   ]
  },
  {
   "cell_type": "code",
   "execution_count": 21,
   "metadata": {},
   "outputs": [
    {
     "name": "stdout",
     "output_type": "stream",
     "text": [
      "0\n"
     ]
    }
   ],
   "source": [
    "classe = predict([-1, 0, 0], weights)\n",
    "print(classe)"
   ]
  },
  {
   "cell_type": "code",
   "execution_count": 22,
   "metadata": {},
   "outputs": [
    {
     "name": "stdout",
     "output_type": "stream",
     "text": [
      "1\n"
     ]
    }
   ],
   "source": [
    "classe = predict([-1, 1, 0], weights)\n",
    "print(classe)"
   ]
  },
  {
   "cell_type": "code",
   "execution_count": 23,
   "metadata": {},
   "outputs": [
    {
     "name": "stdout",
     "output_type": "stream",
     "text": [
      "1\n"
     ]
    }
   ],
   "source": [
    "classe = predict([-1, 0, 1], weights)\n",
    "print(classe)"
   ]
  },
  {
   "cell_type": "code",
   "execution_count": 21,
   "metadata": {},
   "outputs": [
    {
     "name": "stdout",
     "output_type": "stream",
     "text": [
      "1\n"
     ]
    }
   ],
   "source": [
    "classe = predict([-1, 1, 1], weights)\n",
    "print(classe)"
   ]
  }
 ],
 "metadata": {
  "kernelspec": {
   "display_name": "Python 3",
   "language": "python",
   "name": "python3"
  },
  "language_info": {
   "codemirror_mode": {
    "name": "ipython",
    "version": 3
   },
   "file_extension": ".py",
   "mimetype": "text/x-python",
   "name": "python",
   "nbconvert_exporter": "python",
   "pygments_lexer": "ipython3",
   "version": "3.7.3"
  }
 },
 "nbformat": 4,
 "nbformat_minor": 2
}
