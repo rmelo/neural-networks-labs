{
 "cells": [
  {
   "cell_type": "code",
   "execution_count": 2,
   "metadata": {},
   "outputs": [],
   "source": [
    "import random\n",
    "\n",
    "samples = [[-1, 0, 0],\n",
    "          [-1, 0, 1],\n",
    "          [-1, 1, 0],\n",
    "          [-1, 1, 1]]\n",
    "\n",
    "andResults = [0, 0, 0, 1]\n",
    "orResults = [0, 1, 1, 1]"
   ]
  },
  {
   "cell_type": "code",
   "execution_count": 3,
   "metadata": {},
   "outputs": [],
   "source": [
    "def weightedSum(weights, inputs):\n",
    "    u = 0\n",
    "    for i in range(len(inputs)):\n",
    "        u += weights[i] * inputs[i]\n",
    "    return u"
   ]
  },
  {
   "cell_type": "code",
   "execution_count": 4,
   "metadata": {},
   "outputs": [],
   "source": [
    "def activationFunction(u):\n",
    "    return 1 if u >= 0 else 0"
   ]
  },
  {
   "cell_type": "code",
   "execution_count": 5,
   "metadata": {},
   "outputs": [],
   "source": [
    "def train(T, samples, results, n=0.1, maxEpoc=10000):\n",
    "    e=0\n",
    "    weights = [random.random() for t in range(T)]\n",
    "    while(True):\n",
    "        err=False\n",
    "        for k in range(len(samples)):\n",
    "            u = weightedSum(weights, samples[k])\n",
    "            y = activationFunction(u)\n",
    "            if(y != results[k]):\n",
    "                for i in range(T):\n",
    "                    weights[i] = weights[i] + n * (results[k]-y) * samples[k][i]\n",
    "                err=True\n",
    "            e+=1\n",
    "        if(err==False or e==maxEpoc):\n",
    "            break;\n",
    "    return weights\n",
    "\n",
    "def active(inputs, weights):\n",
    "    u = weightedSum(weights, inputs)\n",
    "    y = activationFunction(u)\n",
    "    return y"
   ]
  },
  {
   "cell_type": "code",
   "execution_count": 6,
   "metadata": {},
   "outputs": [
    {
     "name": "stdout",
     "output_type": "stream",
     "text": [
      "[0.3627066656212103, 0.9383337448710158, 0.4295812896151236]\n"
     ]
    }
   ],
   "source": [
    "weights = train(3, samples, orResults, 0.2)\n",
    "print(weights)"
   ]
  },
  {
   "cell_type": "code",
   "execution_count": 7,
   "metadata": {},
   "outputs": [
    {
     "name": "stdout",
     "output_type": "stream",
     "text": [
      "0\n"
     ]
    }
   ],
   "source": [
    "classe = active([-1, 0, 0], weights)\n",
    "print(classe)"
   ]
  },
  {
   "cell_type": "code",
   "execution_count": 8,
   "metadata": {},
   "outputs": [
    {
     "name": "stdout",
     "output_type": "stream",
     "text": [
      "1\n"
     ]
    }
   ],
   "source": [
    "classe = active([-1, 1, 0], weights)\n",
    "print(classe)"
   ]
  },
  {
   "cell_type": "code",
   "execution_count": 9,
   "metadata": {},
   "outputs": [
    {
     "name": "stdout",
     "output_type": "stream",
     "text": [
      "1\n"
     ]
    }
   ],
   "source": [
    "classe = active([-1, 0, 1], weights)\n",
    "print(classe)"
   ]
  },
  {
   "cell_type": "code",
   "execution_count": 10,
   "metadata": {},
   "outputs": [
    {
     "name": "stdout",
     "output_type": "stream",
     "text": [
      "1\n"
     ]
    }
   ],
   "source": [
    "classe = active([-1, 1, 1], weights)\n",
    "print(classe)"
   ]
  },
  {
   "cell_type": "markdown",
   "metadata": {},
   "source": []
  }
 ],
 "metadata": {
  "kernelspec": {
   "display_name": "Python 3",
   "language": "python",
   "name": "python3"
  },
  "language_info": {
   "codemirror_mode": {
    "name": "ipython",
    "version": 3
   },
   "file_extension": ".py",
   "mimetype": "text/x-python",
   "name": "python",
   "nbconvert_exporter": "python",
   "pygments_lexer": "ipython3",
   "version": "3.7.3"
  }
 },
 "nbformat": 4,
 "nbformat_minor": 2
}
