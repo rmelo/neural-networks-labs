{
 "cells": [
  {
   "cell_type": "code",
   "execution_count": 17,
   "metadata": {},
   "outputs": [],
   "source": [
    "import random\n",
    "\n",
    "samples = [[-1, 0.1, 0.4, 0.7],\n",
    "           [-1, 0.3, 0.7, 0.2],\n",
    "           [-1, 0.6, 0.9, 0.8],\n",
    "           [-1, 0.5, 0.7, 0.1]]\n",
    "\n",
    "results = [1, -1, -1, 1]"
   ]
  },
  {
   "cell_type": "code",
   "execution_count": 18,
   "metadata": {},
   "outputs": [],
   "source": [
    "def weightedSum(weights, inputs):\n",
    "    u = 0\n",
    "    for i in range(len(inputs)):\n",
    "        u += weights[i] * inputs[i]\n",
    "    return u\n",
    "\n",
    "def activationFunction(u):\n",
    "    return 1 if u >= 0 else -1"
   ]
  },
  {
   "cell_type": "code",
   "execution_count": 21,
   "metadata": {},
   "outputs": [],
   "source": [
    "def train(T, samples, results, n=0.5):\n",
    "    e=0\n",
    "    weights = [random.random() for t in range(T)]\n",
    "    while(True):\n",
    "        err=False\n",
    "        for k in range(len(samples)):\n",
    "            u = weightedSum(weights, samples[k])\n",
    "            y = activationFunction(u)\n",
    "            if(y != results[k]):\n",
    "                for i in range(T):\n",
    "                    weights[i] = weights[i] + n * (results[k]-y) * samples[k][i]\n",
    "                err=True\n",
    "            e+=1\n",
    "        if(err==False):\n",
    "            break;\n",
    "    return weights\n",
    "\n",
    "def active(inputs, weights):\n",
    "    u = weightedSum(weights, inputs)\n",
    "    y = activationFunction(u)\n",
    "    return 1 if y==1 else -1"
   ]
  },
  {
   "cell_type": "code",
   "execution_count": 22,
   "metadata": {},
   "outputs": [
    {
     "name": "stdout",
     "output_type": "stream",
     "text": [
      "[-0.9466537096242346, 2.9554929179007763, -3.4758466873076643, 0.23168734253967754]\n"
     ]
    }
   ],
   "source": [
    "weights = train(4, samples, results, 0.2)\n",
    "print(weights)"
   ]
  },
  {
   "cell_type": "code",
   "execution_count": 23,
   "metadata": {},
   "outputs": [
    {
     "name": "stdout",
     "output_type": "stream",
     "text": [
      "-1\n"
     ]
    }
   ],
   "source": [
    "classe = active([-1, 0.3, 0.7, 0.2], weights)\n",
    "print(classe)"
   ]
  },
  {
   "cell_type": "code",
   "execution_count": 24,
   "metadata": {},
   "outputs": [
    {
     "name": "stdout",
     "output_type": "stream",
     "text": [
      "1\n"
     ]
    }
   ],
   "source": [
    "classe = active([-1, 0.1, 0.4, 0.7], weights)\n",
    "print(classe)"
   ]
  },
  {
   "cell_type": "markdown",
   "metadata": {},
   "source": []
  }
 ],
 "metadata": {
  "kernelspec": {
   "display_name": "Python 3",
   "language": "python",
   "name": "python3"
  },
  "language_info": {
   "codemirror_mode": {
    "name": "ipython",
    "version": 3
   },
   "file_extension": ".py",
   "mimetype": "text/x-python",
   "name": "python",
   "nbconvert_exporter": "python",
   "pygments_lexer": "ipython3",
   "version": "3.7.3"
  }
 },
 "nbformat": 4,
 "nbformat_minor": 2
}
